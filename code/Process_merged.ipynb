{
 "cells": [
  {
   "cell_type": "code",
   "execution_count": 61,
   "id": "fd56723a-2609-43fd-84ac-19f90001b78e",
   "metadata": {},
   "outputs": [],
   "source": [
    "import matplotlib\n",
    "matplotlib.use('Agg')\n",
    "\n",
    "import os\n",
    "import pandas as pd\n",
    "import numpy as np\n",
    "import sys\n",
    "import pickle\n",
    "from scipy.spatial.distance import cdist\n",
    "import math\n",
    "import networkx as nx\n",
    "import networkx.algorithms.components.connected as nxacc\n",
    "import networkx.algorithms.dag as nxadag\n",
    "import matplotlib.pyplot as plt\n",
    "import seaborn as sns\n",
    "import itertools\n",
    "import mygene\n",
    "import re\n",
    "\n"
   ]
  },
  {
   "cell_type": "markdown",
   "id": "e2ba6da8-65b3-4d8a-b12c-e13b2fcebe9f",
   "metadata": {},
   "source": [
    "# Before you begin, navigate to the `GDSC` directory in `../data/` and execute the following command in the terminal \n",
    "\n",
    "`wget http://www.cancerrxgene.org/gdsc1000//Data/preprocessed/Cell_line_RMA_proc_basalExp.txt.zip`\n",
    "\n",
    "Unzip the file once downloaded"
   ]
  },
  {
   "cell_type": "markdown",
   "id": "e048ba8a-d77c-4a5f-8079-50f17021572d",
   "metadata": {},
   "source": [
    "# Read in the common features between GDSC and PDTC - this is cruicial for training"
   ]
  },
  {
   "cell_type": "code",
   "execution_count": 62,
   "id": "536d7d84-624f-4750-9121-a8dbf0586866",
   "metadata": {},
   "outputs": [],
   "source": [
    "selected_exp_gene_list = pd.read_csv(\"../data/common_exp_features.tsv\",sep=\"\\t\")[\"Gene\"].tolist()\n",
    "selected_mut_gene_list = pd.read_csv(\"../data/common_mut_features.tsv\",sep=\"\\t\")[\"Gene\"].tolist()"
   ]
  },
  {
   "cell_type": "code",
   "execution_count": 63,
   "id": "ccab1db8-51ce-4ffa-9269-5a3558177b1b",
   "metadata": {},
   "outputs": [],
   "source": [
    "def load_network(network_file_list, valid_gene_list):\n",
    "    \n",
    "    gene_neighbor_map = {}\n",
    "    \n",
    "    for file_name in network_file_list:\n",
    "        \n",
    "        ## print 'Load network', file_name\n",
    "        \n",
    "        file_handle = open(file_name)\n",
    "    \n",
    "        for line in file_handle:\n",
    "        \n",
    "            line = line.rstrip().split()\n",
    "            gene1, gene2 = line[0], line[1]\n",
    "        \n",
    "            if gene1 not in valid_gene_list or gene2 not in valid_gene_list:\n",
    "                continue\n",
    "        \n",
    "            if gene1 not in gene_neighbor_map:\n",
    "                gene_neighbor_map[gene1] = set()\n",
    "            if gene2 not in gene_neighbor_map:\n",
    "                gene_neighbor_map[gene2] = set()\n",
    "            \n",
    "            gene_neighbor_map[gene1].add(gene2)\n",
    "            gene_neighbor_map[gene2].add(gene1)\n",
    "            \n",
    "        file_handle.close()\n",
    "    \n",
    "    return gene_neighbor_map"
   ]
  },
  {
   "cell_type": "code",
   "execution_count": 4,
   "id": "d971d98d-eeb8-412d-baad-592cf9e7e7c9",
   "metadata": {},
   "outputs": [],
   "source": [
    "def load_name_space():\n",
    "        \n",
    "    go_tab_map = {}\n",
    "    \n",
    "    file_handle = open(go_name_space_file)\n",
    "    \n",
    "    for line in file_handle:\n",
    "        line = line.rstrip().split()\n",
    "        go_tab_map[line[0]] = line[1]\n",
    "        \n",
    "    file_handle.close()\n",
    "    \n",
    "    return go_tab_map\n",
    "        \n",
    "def list2index(cell_line_list, cell_line2id):\n",
    "    \n",
    "    cell_line_idx_list = []\n",
    "    \n",
    "    for cell_line in cell_line_list:\n",
    "        cell_line_idx_list.append(cell_line2id[cell_line])\n",
    "        \n",
    "    return np.asarray(cell_line_idx_list)\n",
    "\n"
   ]
  },
  {
   "cell_type": "code",
   "execution_count": null,
   "id": "43015778-2190-45b6-b901-562353b5e488",
   "metadata": {},
   "outputs": [],
   "source": [
    "def stripNumber(line):\n",
    "    m = re.match('DATA\\.([0-9]+)\\.?', line)\n",
    "    return int(m.group(1))"
   ]
  },
  {
   "cell_type": "markdown",
   "id": "5e219545-1a62-43f8-8191-b88857933c83",
   "metadata": {},
   "source": [
    "# Set directories for GDSC and PDTC data"
   ]
  },
  {
   "cell_type": "code",
   "execution_count": 64,
   "id": "af493c0d-c343-4ecd-8600-ef1f6fce8066",
   "metadata": {},
   "outputs": [],
   "source": [
    "PDTC_data_file = '../data/PDTC/'\n",
    "PDTC_exp_data_file = PDTC_data_file + 'ExpressionModels.tsv'\n",
    "PDTC_drug_cell_line_file = PDTC_data_file + 'DrugResponsesAUCModels.tsv'\n",
    "#download at https://ftp.sanger.ac.uk/pub4/cancerrxgene/releases/release-6.0/v17_fitted_dose_response.xlsx\n",
    "\n",
    "#cell_line_detail_file = data_file + 'Cell_Lines_Details.csv'\n",
    "PDTC_mutation_data_file = PDTC_data_file + 'SNVsModels.tsv'\n",
    "PDTC_drug_target_file ='../data/GDSC/drug_target_list.csv'\n",
    "\n",
    "inbiomap_file = '../data/networks/InBioMap_Symbol.sif'\n",
    "pathwaycomm_file = '../data/networks/PathwayCommons_Symbol.sif'\n",
    "\n",
    "pd.set_option('display.max_columns', 20)\n",
    "pd.set_option('display.max_row', 10)"
   ]
  },
  {
   "cell_type": "code",
   "execution_count": 27,
   "id": "1af4d268-2aff-4cd1-8df2-b192d4d2dde5",
   "metadata": {},
   "outputs": [],
   "source": [
    "data_file = '../data/GDSC/'\n",
    "new_network_file = '../data/'\n",
    "\n",
    "exp_data_file = data_file + 'Cell_line_RMA_proc_basalExp.txt'\n",
    "\n",
    "drug_cell_line_file = data_file + 'v17_fitted_dose_response.csv'\n",
    "#download at https://ftp.sanger.ac.uk/pub4/cancerrxgene/releases/release-6.0/v17_fitted_dose_response.xlsx\n",
    "\n",
    "cell_line_detail_file = data_file + 'Cell_Lines_Details.csv'\n",
    "mutation_data_file = data_file + 'WES_variants.csv'\n",
    "drug_target_file ='../data/GDSC/drug_target_list.csv'\n",
    "\n",
    "feature_folder = 'feature/'\n",
    "\n",
    "inbiomap_file = 'InBioMap_Symbol.sif'\n",
    "pathwaycomm_file = 'PathwayCommons_Symbol.sif'"
   ]
  },
  {
   "cell_type": "code",
   "execution_count": 12,
   "id": "3fb2f508-bee8-461a-a07e-5cb329277ea9",
   "metadata": {},
   "outputs": [],
   "source": [
    "pd.set_option('display.max_columns', 20)\n",
    "pd.set_option('display.max_row', 10)"
   ]
  },
  {
   "cell_type": "markdown",
   "id": "c2ec38c4-da1c-46e8-a581-07a0c11c3f4b",
   "metadata": {},
   "source": [
    "# Read in the GDSC and PDTC expression files, and join them into one big dataframe"
   ]
  },
  {
   "cell_type": "code",
   "execution_count": 51,
   "id": "fa2afcb3-bc53-4a3b-92ef-ddbf2f30715b",
   "metadata": {},
   "outputs": [],
   "source": [
    "exp_df = pd.read_csv(exp_data_file, sep='\\t', index_col=0)\n",
    "exp_df = exp_df.T[1:]\n",
    "exp_df = exp_df.rename(columns={np.nan: 'NO_GENE_NAME'})\n",
    "exp_df = exp_df.drop('NO_GENE_NAME',axis=1)\n",
    "exp_df = exp_df[selected_exp_gene_list]\n",
    "exp_df.index = exp_df.index.map(stripNumber)\n",
    "exp_df = exp_df.groupby(level=0).first()\n",
    "PDTC_exp_df = pd.read_csv(PDTC_exp_data_file, sep='\\t', index_col=0).fillna(0)\n",
    "PDTC_exp_df = PDTC_exp_df.T[1:]\n",
    "PDTC_exp_df = PDTC_exp_df[selected_exp_gene_list]\n",
    "\n",
    "PDTC_exp_gene_list = list(PDTC_exp_df.columns)\n",
    "PDTC_exp_cell_line_list = list(PDTC_exp_df.index.unique())\n",
    "exp_df = pd.concat([exp_df,PDTC_exp_df])\n",
    "exp_gene_list = list(exp_df.columns)\n",
    "exp_cell_line_list = list(exp_df.index.unique())"
   ]
  },
  {
   "cell_type": "markdown",
   "id": "c717ffac-749f-4a72-b6fa-48d75046e90f",
   "metadata": {},
   "source": [
    "# Read in the GDSC and PDTC expression files, and join them into one big dataframe"
   ]
  },
  {
   "cell_type": "code",
   "execution_count": 44,
   "id": "d1f60eb8-2191-42d6-a912-e9c55c27232e",
   "metadata": {},
   "outputs": [],
   "source": [
    "maf = pd.read_csv(mutation_data_file, sep=',', index_col=0).fillna(0)\n",
    "mutation_df = maf.groupby(['COSMIC_ID', 'Gene']).size().unstack().fillna(0)\n",
    "mutation_df = mutation_df[selected_mut_gene_list]\n",
    "PDTC_maf = pd.read_csv(PDTC_mutation_data_file, sep='\\t', index_col=0).fillna(0)\n",
    "PDTC_mutation_df= PDTC_maf.replace(to_replace=\"NO\",value=0.0)\n",
    "PDTC_mutation_df= PDTC_mutation_df.replace(to_replace=\"chr*\",value=1.0,regex=True)\n",
    "# print len(mutation_cell_line_list), len(mutation_gene_list)\n",
    "PDTC_mutation_df = PDTC_mutation_df.transpose()\n",
    "PDTC_mutation_df = PDTC_mutation_df[selected_mut_gene_list]\n",
    "PDTC_mutation_gene_list = list(PDTC_mutation_df.columns)\n",
    "PDTC_mutation_cell_line_list = list(PDTC_mutation_df.index.unique())\n",
    "mutation_df = pd.concat([mutation_df,PDTC_mutation_df])\n",
    "mutation_gene_list = list(mutation_df.columns)\n",
    "mutation_cell_line_list = list(mutation_df.index.unique())"
   ]
  },
  {
   "cell_type": "markdown",
   "id": "25afd7e7-3987-40db-b933-86d0a3ccf7dc",
   "metadata": {},
   "source": [
    "# Create a dictionary for each drug, specifying their gene targets"
   ]
  },
  {
   "cell_type": "code",
   "execution_count": 21,
   "id": "11c46a10-d25d-4dba-ac5b-5e7b708b977a",
   "metadata": {},
   "outputs": [],
   "source": [
    "file_handle = open(drug_target_file)\n",
    "\n",
    "drug_target_map = {}\n",
    "drug_target_list = []\n",
    "for line in file_handle:\n",
    "    \n",
    "    new_line = line.rstrip().split(\",\")\n",
    "    drug = new_line[0]\n",
    "    target_list=new_line[1].split(',')\n",
    "    if drug != \"Drug\":\n",
    "        target_list_str = \"\"\n",
    "        for i in range(0,len(target_list)):\n",
    "            if i == len(target_list) - 1:\n",
    "                target_list_str += target_list[i].replace('\"','')\n",
    "            else:\n",
    "                target_list_str += target_list[i].replace('\"','') + \",\"\n",
    "        drug = drug.strip()\n",
    "\n",
    "        drug_target_map[drug] = []\n",
    "        if ',' not in target_list_str:\n",
    "            drug_target_map[drug].append(target_list_str.strip())\n",
    "            drug_target_list.append(target_list_str.strip())\n",
    "        else:\n",
    "            target_list = target_list_str.split(',')\n",
    "            for target in target_list:\n",
    "                drug_target_map[drug].append(target.strip())\n",
    "                drug_target_list.append(target.strip())"
   ]
  },
  {
   "cell_type": "markdown",
   "id": "1321d2d8-8b8b-455a-9787-0ef78d96a5fa",
   "metadata": {},
   "source": [
    "# Load valid gene neighbour maps for datasets and make identifiers commmon"
   ]
  },
  {
   "cell_type": "code",
   "execution_count": 28,
   "id": "e6a5b539-de38-49a0-8cb0-2e95bb8c5937",
   "metadata": {},
   "outputs": [],
   "source": [
    "drugs_legend = pd.read_csv('../data/GDSC/Screened_Compounds.csv', sep=',', index_col=0)\n",
    "\n",
    "drug2id_mapping = {}\n",
    "\n",
    "for index in list(drugs_legend.index) :\n",
    "    drug_name = drugs_legend.loc[index,'Drug Name']\n",
    "    drug2id_mapping[ drug_name ] = index\n",
    "\n",
    "valid_gene_list = list(set(drug_target_list) | set(exp_gene_list) | set(mutation_gene_list))\n",
    "\n",
    "network_list = [new_network_file+inbiomap_file, new_network_file+pathwaycomm_file]\n",
    "gene_neighbor_map =  load_network(network_list, valid_gene_list)"
   ]
  },
  {
   "cell_type": "code",
   "execution_count": 29,
   "id": "3e8a0799-61ac-4c6d-b226-35e5c4c1cc47",
   "metadata": {},
   "outputs": [
    {
     "name": "stderr",
     "output_type": "stream",
     "text": [
      "/var/folders/g5/1dkz6ck51cx3rdj98dn_3jkh0000gp/T/ipykernel_28425/2634738580.py:1: DtypeWarning: Columns (31,38) have mixed types. Specify dtype option on import or set low_memory=False.\n",
      "  gene_name_df = pd.read_table('../data/HUGO_protein-coding_gene.tsv',index_col=25, sep='\\t')\n"
     ]
    }
   ],
   "source": [
    "gene_name_df = pd.read_table('../data/HUGO_protein-coding_gene.tsv',index_col=25, sep='\\t')\n",
    "\n",
    "gene_name_map = {}\n",
    "\n",
    "for uniprot_gene in gene_name_df.index:\n",
    "    ## print uniprot_gene\n",
    "    if isinstance(uniprot_gene, type('aaa')) == False:\n",
    "        continue\n",
    "    \n",
    "    if isinstance(gene_name_df.loc[uniprot_gene, 'symbol'], type('aaa')) == False:\n",
    "        gene_name_map[uniprot_gene] = gene_name_df.loc[uniprot_gene, 'symbol'][0]\n",
    "    else:\n",
    "        gene_name_map[uniprot_gene] = gene_name_df.loc[uniprot_gene, 'symbol']"
   ]
  },
  {
   "cell_type": "code",
   "execution_count": 30,
   "id": "dc90fce1-b988-49fe-b0c6-73c151d84a55",
   "metadata": {},
   "outputs": [],
   "source": [
    "corum_df = pd.read_table(new_network_file + 'allComplexes.txt', index_col=0)\n",
    "\n",
    "uniprot_gene_set = set()\n",
    "\n",
    "for index in corum_df.index:\n",
    "    \n",
    "    if corum_df.loc[index, 'Organism'] != 'Human':\n",
    "        continue\n",
    "        \n",
    "    complex_list = corum_df.loc[index, 'subunits(UniProt IDs)'].split(';')\n",
    "    \n",
    "    for gene in complex_list:\n",
    "        uniprot_gene_set.add(gene)"
   ]
  },
  {
   "cell_type": "code",
   "execution_count": 31,
   "id": "c0e8d830-e329-4f6a-92a4-1531de4cf779",
   "metadata": {},
   "outputs": [
    {
     "name": "stdout",
     "output_type": "stream",
     "text": [
      "querying 1-43...done.\n",
      "Finished.\n",
      "1 input query terms found dup hits:\n",
      "\t[('P01871', 2)]\n",
      "26 input query terms found no hit:\n",
      "\t['P48830', 'Q8BFT2', 'Q95114', 'P62861', 'Q9P0W5', 'Q9NY11', 'Q59EJ3', 'A1Z199', 'Q13745', 'Q1EHW4',\n",
      "Pass \"returnall=True\" to return complete lists of duplicate or missing query terms.\n"
     ]
    }
   ],
   "source": [
    "query_gene_set = []\n",
    "\n",
    "for gene in uniprot_gene_set:\n",
    "    if gene not in gene_name_map:\n",
    "        query_gene_set.append(gene)\n",
    "    \n",
    "# print 'Need to query', len(query_gene_set)\n",
    "\n",
    "query_gene_list = list(query_gene_set)\n",
    "\n",
    "mg = mygene.MyGeneInfo()\n",
    "out = mg.querymany(query_gene_list, scopes='uniprot', fields='symbol', species='human')\n",
    "\n",
    "not_found_gene_list = []\n",
    "\n",
    "for i, gene in enumerate(query_gene_list):\n",
    "    if 'notfound' in out[i]:\n",
    "        not_found_gene_list.append(gene)\n",
    "    else:\n",
    "        gene_name_map[gene] = out[i]['symbol']"
   ]
  },
  {
   "cell_type": "code",
   "execution_count": 32,
   "id": "ef323cf2-0eee-4577-802e-fa2159eb204e",
   "metadata": {},
   "outputs": [],
   "source": [
    "corum_df = pd.read_table(new_network_file + 'allComplexes.txt', index_col=0)\n",
    "\n",
    "for index in corum_df.index:\n",
    "    \n",
    "    if corum_df.loc[index, 'Organism'] != 'Human':\n",
    "        continue\n",
    "    \n",
    "    complex_list = corum_df.loc[index, 'subunits(UniProt IDs)'].split(';')\n",
    "    \n",
    "    complex_symbol_list = []\n",
    "    \n",
    "    for gene in complex_list:\n",
    "        if gene in gene_name_map:\n",
    "            complex_symbol_list.append( gene_name_map[gene] )\n",
    "\n",
    "    for gene1, gene2 in itertools.combinations(complex_symbol_list,2):\n",
    "        \n",
    "        if gene1 not in gene_neighbor_map:\n",
    "            gene_neighbor_map[gene1] = set()\n",
    "        if gene2 not in gene_neighbor_map:\n",
    "            gene_neighbor_map[gene2] = set()\n",
    "        \n",
    "        gene_neighbor_map[gene1].add(gene2)\n",
    "        gene_neighbor_map[gene2].add(gene1)"
   ]
  },
  {
   "cell_type": "markdown",
   "id": "f9afb9e2-9eb7-46b5-a5a0-d0616f9feb34",
   "metadata": {},
   "source": [
    "# Identify significantly expressed genes"
   ]
  },
  {
   "cell_type": "code",
   "execution_count": 33,
   "id": "618b326c-8969-4df2-bc05-dba214c8e541",
   "metadata": {},
   "outputs": [],
   "source": [
    "gene_exp_neighbor_map = {}\n",
    "exp_matrix = exp_df.values\n",
    "\n",
    "P = 1 - cdist(np.transpose(exp_matrix), np.transpose(exp_matrix),'correlation')\n",
    "\n",
    "for i in range(len(exp_gene_list)):\n",
    "    \n",
    "    gene1 = exp_gene_list[i]\n",
    "    gene_exp_neighbor_map[gene1] = set()\n",
    "    \n",
    "    for j in range(len(exp_gene_list)):\n",
    "        \n",
    "        gene2 = exp_gene_list[j]\n",
    "        \n",
    "        if math.fabs(P[i, j]) > 0.4:\n",
    "            gene_exp_neighbor_map[gene1].add(gene2)\n",
    "            \n",
    "    if gene1 not in gene_exp_neighbor_map[gene1]:\n",
    "        print (gene1, 'not in itself?', P[i,i])"
   ]
  },
  {
   "cell_type": "markdown",
   "id": "9745c5d2-19dc-4db7-a80f-905761791eaf",
   "metadata": {},
   "source": [
    "# Identify drugs expressed in input data, and which to be \"selected\" for analysis"
   ]
  },
  {
   "cell_type": "code",
   "execution_count": 35,
   "id": "ac52b882-7eaf-4598-8ea2-b25e88a42160",
   "metadata": {},
   "outputs": [
    {
     "name": "stderr",
     "output_type": "stream",
     "text": [
      "/opt/homebrew/lib/python3.9/site-packages/seaborn/distributions.py:2619: FutureWarning: `distplot` is a deprecated function and will be removed in a future version. Please adapt your code to use either `displot` (a figure-level function with similar flexibility) or `histplot` (an axes-level function for histograms).\n",
      "  warnings.warn(msg, FutureWarning)\n"
     ]
    },
    {
     "data": {
      "text/plain": [
       "<AxesSubplot:>"
      ]
     },
     "execution_count": 35,
     "metadata": {},
     "output_type": "execute_result"
    },
    {
     "data": {
      "image/png": "[encoded data removed]",
      "text/plain": [
       "<Figure size 432x288 with 1 Axes>"
      ]
     },
     "metadata": {},
     "output_type": "display_data"
    }
   ],
   "source": [
    "%matplotlib inline\n",
    "rug_feature_list = []\n",
    "drug_neighbor_map = {}\n",
    "selected_drug_list = []\n",
    "\n",
    "for drug, target_list in drug_target_map.items():\n",
    "        drug_neighbor_map[drug] = set()\n",
    "\n",
    "        for gene in target_list:\n",
    "\n",
    "            if gene not in gene_exp_neighbor_map and gene not in gene_neighbor_map:\n",
    "                continue\n",
    "\n",
    "            if gene in gene_exp_neighbor_map:\n",
    "                drug_neighbor_map[drug] = drug_neighbor_map[drug] | gene_exp_neighbor_map[gene]\n",
    "\n",
    "            if gene in gene_neighbor_map:\n",
    "                drug_neighbor_map[drug] = drug_neighbor_map[drug] | gene_neighbor_map[gene]\n",
    "\n",
    "        if len(drug_neighbor_map[drug]) != 0:\n",
    "             selected_drug_list.append(drug)\n",
    "             drug_feature_list.append( len(drug_neighbor_map[drug]) )\n",
    "sns.set_style(\"whitegrid\")\n",
    "sns.set_context(\"talk\")\n",
    "sns.distplot(drug_feature_list,color='r',bins=60,kde=False,norm_hist=False)"
   ]
  },
  {
   "cell_type": "markdown",
   "id": "3e573d8e-bbdd-40ab-9d58-93d42d82a119",
   "metadata": {},
   "source": [
    "# Load GDSC and PDTC drug information"
   ]
  },
  {
   "cell_type": "code",
   "execution_count": null,
   "id": "95cd18f6-2831-4ae3-beff-ad2e37f2afcd",
   "metadata": {},
   "outputs": [],
   "source": [
    "drugs = pd.read_csv(drug_cell_line_file,index_col=2)\n",
    "drugs = drugs.drop([\"DATASET_VERSION\",\"IC50_RESULTS_ID\",\"MAX_CONC_MICROMOLAR\",\"RMSE\"],axis=1)\n",
    "drugs_cell_line_list = list(drugs.index.unique())\n",
    "# print len(drugs_cell_line_list)\n",
    "drug_list = drugs[\"DRUG_ID\"]\n",
    "new_drug_id = []\n",
    "\n",
    "PDTC_drugs = pd.read_csv(PDTC_drug_cell_line_file,sep='\\t',index_col=0)\n",
    "PDTC_drugs_cell_line_list = list(PDTC_drugs.index.unique())\n",
    "# print len(drugs_cell_line_list)\n",
    "drug_list = PDTC_drugs[\"Drug\"].tolist()\n",
    "new_drug_id = []\n",
    "for i in drug_list:\n",
    "    if i in drug2id_mapping.keys():\n",
    "        new_drug_id.append(drug2id_mapping[i])\n",
    "    else:\n",
    "        new_drug_id.append(0)\n",
    "PDTC_drugs[\"DRUG_ID\"] = new_drug_id\n",
    "PDTC_drugs[\"LN_IC50\"] = np.log(PDTC_drugs[\"iC50\"])\n",
    "PDTC_drugs = PDTC_drugs.drop([\"Drug\",\"iC50\",\"D1_CONC\",\"D5_CONC\",\"perc.iC50\"],axis=1)\n",
    "\n",
    "drugs = pd.concat([drugs,PDTC_drugs])\n",
    "\n",
    "drugs_cell_line_list = list(drugs.index.unique())\n",
    "\n"
   ]
  },
  {
   "cell_type": "code",
   "execution_count": 53,
   "id": "5892f801-982e-422c-a36f-e2e93f511534",
   "metadata": {},
   "outputs": [],
   "source": [
    "cell_line_list = list(set(drugs_cell_line_list)&set(exp_cell_line_list)&set(mutation_cell_line_list) )\n",
    "\n",
    "cell_line_legend = pd.read_csv(cell_line_detail_file, index_col=1)\n",
    "PDTC_cell_line = pd.DataFrame({'Line': [\"BRCA\"]*len(PDTC_exp_cell_line_list), 'Site':[\"PDTC\"]*len(PDTC_exp_cell_line_list),\"Histology\":[\"breast\"]*len(PDTC_exp_cell_line_list)},index=PDTC_exp_cell_line_list)\n",
    "cell_line_legend = pd.concat([cell_line_legend,PDTC_cell_line])"
   ]
  },
  {
   "cell_type": "markdown",
   "id": "92f571e5-1b82-43b2-8643-a082f285977e",
   "metadata": {},
   "source": [
    "# Identify present tissues in dataset (note: PDTC breast tissue has been identified as \"PDTC\")"
   ]
  },
  {
   "cell_type": "code",
   "execution_count": null,
   "id": "331d275d-5c5c-42a3-a717-a4708cc182cb",
   "metadata": {},
   "outputs": [],
   "source": [
    "tissue_map = {}\n",
    "\n",
    "for cell_line in cell_line_list:\n",
    "    \n",
    "    tissue = cell_line_legend.loc[cell_line,'Site']\n",
    "    \n",
    "    if tissue not in tissue_map:\n",
    "        tissue_map[tissue] = []\n",
    "        \n",
    "    tissue_map[tissue].append(cell_line)\n",
    "\n",
    "large_tissue_number = 0\n",
    "for tissue, cell_line in tissue_map.items():\n",
    "    \n",
    "    if len(cell_line) >= 15:\n",
    "        large_tissue_number += 1\n",
    "    \n",
    "    print (tissue, len(cell_line))\n",
    "\n",
    "print('How many tissues', len(tissue_map))\n",
    "print('Large tissues', large_tissue_number)"
   ]
  },
  {
   "cell_type": "code",
   "execution_count": 55,
   "id": "72f1df9b-89eb-4ba2-9c85-05f55ac4859f",
   "metadata": {},
   "outputs": [],
   "source": [
    "new_exp_gene_list = []\n",
    "for i in exp_gene_list:\n",
    "    if i in valid_gene_list:\n",
    "        new_exp_gene_list.append(i)\n",
    "\n",
    "exp_stdev = np.std(exp_df.values, axis=0)\n",
    "exp_perc = np.percentile(exp_stdev,10)\n",
    "filtered_exp_gene_list = np.asarray(exp_gene_list)[exp_stdev > exp_perc]\n",
    "\n",
    "mut_sum = np.sum(mutation_df.values,axis=0)\n",
    "filtered_mut_gene_list = np.asarray(mutation_gene_list)[mut_sum > 5]\n",
    "\n",
    "new_exp_df = exp_df.loc[ :, list(filtered_exp_gene_list) ]\n",
    "new_mutation_df = mutation_df.loc[ :, list(filtered_mut_gene_list) ]"
   ]
  },
  {
   "cell_type": "code",
   "execution_count": 56,
   "id": "ad262329-4aeb-421f-aea1-dd666d1337aa",
   "metadata": {},
   "outputs": [],
   "source": [
    "new_data_file = ''\n",
    "\n",
    "exp_stdev = np.std(exp_df.values, axis=0)\n",
    "exp_perc = np.percentile(exp_stdev,10)\n",
    "filtered_exp_gene_list = np.asarray(exp_gene_list)[exp_stdev > exp_perc]\n",
    "\n",
    "mut_sum = np.sum(mutation_df.values,axis=0)\n",
    "filtered_mut_gene_list = np.asarray(mutation_gene_list)[mut_sum > 5]\n",
    "\n",
    "new_exp_df = exp_df.loc[ :, list(filtered_exp_gene_list) ]\n",
    "new_mutation_df = mutation_df.loc[ :, list(filtered_mut_gene_list) ]"
   ]
  },
  {
   "cell_type": "markdown",
   "id": "8e949819-272d-4476-9760-ea3e5b3d5f71",
   "metadata": {},
   "source": [
    "# Generate tissue feature and labels for each drug (input for pipeline)"
   ]
  },
  {
   "cell_type": "code",
   "execution_count": null,
   "id": "4cfa2dfa-62ec-4c02-b9b5-017744e3df92",
   "metadata": {},
   "outputs": [],
   "source": [
    "rename_selected_drug_list = []\n",
    "\n",
    "for drug in selected_drug_list:\n",
    "    print(drug)\n",
    "    \n",
    "    if drug not in drug2id_mapping:\n",
    "        print('drug name wrong', drug)\n",
    "    else:\n",
    "        cell_line_drug_matrix = drugs.loc[drugs['DRUG_ID'] == drug2id_mapping[drug]]\n",
    "        \n",
    "        feature_exp_gene_list = list( set(drug_neighbor_map[drug]) & set(filtered_exp_gene_list) )\n",
    "        feature_mut_gene_list = list( set(drug_neighbor_map[drug]) & set(filtered_mut_gene_list) )\n",
    "        print(len(feature_exp_gene_list) + len(feature_mut_gene_list))\n",
    "        if len(feature_exp_gene_list) + len(feature_mut_gene_list) == 0:\n",
    "            continue\n",
    "        feature_description = []\n",
    "\n",
    "        drug_tissue_map = {}\n",
    "\n",
    "        drug = drug.replace(' ','_')\n",
    "\n",
    "        rename_selected_drug_list.append(drug)\n",
    "\n",
    "        # print drug\n",
    "        if drug == 'Nutlin-3a_(-)':\n",
    "            drug = 'Nutlin-3a'\n",
    "\n",
    "        drug_folder = '../data/merged/drug_feature/' + drug + '/'\n",
    "        if not os.path.exists(drug_folder):\n",
    "            os.makedirs(drug_folder)\n",
    "\n",
    "        # print 'Generate features', drug\n",
    "\n",
    "        for tissue, tissue_cell_line_list in tissue_map.items():\n",
    "            drug_specific_cell_line = set( cell_line_drug_matrix.index ) & set( tissue_cell_line_list )\n",
    "            drug_specific_cell_line = list(drug_specific_cell_line)\n",
    "            drug_tissue_map[tissue] = drug_specific_cell_line\n",
    "\n",
    "            feature_list = []\n",
    "\n",
    "            if len(feature_exp_gene_list) != 0:\n",
    "                feature_list.append( new_exp_df.loc[ drug_specific_cell_line, feature_exp_gene_list ].values )\n",
    "                for gene in feature_exp_gene_list:\n",
    "                    feature_description.append(gene+'_expression')\n",
    "\n",
    "            if len(feature_mut_gene_list) != 0:\n",
    "                feature_list.append( mutation_df.loc[ drug_specific_cell_line, feature_mut_gene_list ].values )\n",
    "                for gene in feature_mut_gene_list:\n",
    "                    feature_description.append(gene+'_mutation')\n",
    "\n",
    "            feature = np.concatenate(feature_list, axis=1)\n",
    "\n",
    "            label = cell_line_drug_matrix.loc[ drug_specific_cell_line,'LN_IC50'].values\n",
    "\n",
    "            #label = new_crispr_df.loc[ tissue_cell_line_list, label_gene ].values\n",
    "\n",
    "            # print feature.shape, label.shape\n",
    "\n",
    "            np.save(drug_folder + tissue + '_' + drug + '_feature.npy', feature )\n",
    "            np.save(drug_folder + tissue + '_' + drug + '_label.npy', label)\n",
    "            np.save(drug_folder + tissue + '_feature_description.npy', np.asarray(feature_description))\n",
    "\n",
    "        file_handle = open(\"../data/merged/\" + drug+'_tissue_cell_line_list.pkl',\"wb\")\n",
    "        pickle.dump(drug_tissue_map,file_handle)\n",
    "        file_handle.close()\n",
    "    \n",
    "file_handle = open('rename_selected_drug_list', 'w')\n",
    "for drug in rename_selected_drug_list:\n",
    "    file_handle.writelines(drug+ '\\n')\n",
    "file_handle.close()"
   ]
  }
 ],
 "metadata": {
  "kernelspec": {
   "display_name": "Python 3 (ipykernel)",
   "language": "python",
   "name": "python3"
  },
  "language_info": {
   "codemirror_mode": {
    "name": "ipython",
    "version": 3
   },
   "file_extension": ".py",
   "mimetype": "text/x-python",
   "name": "python",
   "nbconvert_exporter": "python",
   "pygments_lexer": "ipython3",
   "version": "3.9.10"
  }
 },
 "nbformat": 4,
 "nbformat_minor": 5
}
