{
 "cells": [
  {
   "cell_type": "code",
   "execution_count": 1,
   "metadata": {
    "tags": []
   },
   "outputs": [],
   "source": [
    "import matplotlib\n",
    "matplotlib.use('Agg')\n",
    "%matplotlib inline\n",
    "\n",
    "import os\n",
    "import pandas as pd\n",
    "import numpy as np\n",
    "import sys\n",
    "import pickle\n",
    "from scipy.spatial.distance import cdist\n",
    "import math\n",
    "import networkx as nx\n",
    "import networkx.algorithms.components.connected as nxacc\n",
    "import networkx.algorithms.dag as nxadag\n",
    "import matplotlib.pyplot as plt\n",
    "import seaborn as sns\n",
    "import itertools\n",
    "import mygene\n",
    "import re"
   ]
  },
  {
   "cell_type": "code",
   "execution_count": 94,
   "metadata": {},
   "outputs": [],
   "source": [
    "selected_exp_gene_list = pd.read_csv(\"/data/common_exp_features.tsv\",sep=\"\\t\")[\"Gene\"].tolist()\n",
    "selected_mut_gene_list = pd.read_csv(\"/data/common_mut_features.tsv\",sep=\"\\t\")[\"Gene\"].tolist()"
   ]
  },
  {
   "cell_type": "code",
   "execution_count": 95,
   "metadata": {
    "tags": []
   },
   "outputs": [],
   "source": [
    "def load_network(network_file_list, valid_gene_list):\n",
    "    \n",
    "    gene_neighbor_map = {}\n",
    "    \n",
    "    for file_name in network_file_list:\n",
    "        \n",
    "        ## print 'Load network', file_name\n",
    "        \n",
    "        file_handle = open(file_name)\n",
    "    \n",
    "        for line in file_handle:\n",
    "        \n",
    "            line = line.rstrip().split()\n",
    "            gene1, gene2 = line[0], line[1]\n",
    "        \n",
    "            if gene1 not in valid_gene_list or gene2 not in valid_gene_list:\n",
    "                continue\n",
    "        \n",
    "            if gene1 not in gene_neighbor_map:\n",
    "                gene_neighbor_map[gene1] = set()\n",
    "            if gene2 not in gene_neighbor_map:\n",
    "                gene_neighbor_map[gene2] = set()\n",
    "            \n",
    "            gene_neighbor_map[gene1].add(gene2)\n",
    "            gene_neighbor_map[gene2].add(gene1)\n",
    "            \n",
    "        file_handle.close()\n",
    "    \n",
    "    return gene_neighbor_map\n",
    "                             \n",
    "def load_name_space():\n",
    "        \n",
    "    go_tab_map = {}\n",
    "    \n",
    "    file_handle = open(go_name_space_file)\n",
    "    \n",
    "    for line in file_handle:\n",
    "        line = line.rstrip().split()\n",
    "        go_tab_map[line[0]] = line[1]\n",
    "        \n",
    "    file_handle.close()\n",
    "    \n",
    "    return go_tab_map\n",
    "        \n",
    "def list2index(cell_line_list, cell_line2id):\n",
    "    \n",
    "    cell_line_idx_list = []\n",
    "    \n",
    "    for cell_line in cell_line_list:\n",
    "        cell_line_idx_list.append(cell_line2id[cell_line])\n",
    "        \n",
    "    return np.asarray(cell_line_idx_list)"
   ]
  },
  {
   "cell_type": "code",
   "execution_count": 96,
   "metadata": {
    "tags": []
   },
   "outputs": [],
   "source": [
    "data_file = '/data/PTDC/'\n",
    "new_network_file = '/data/'\n",
    "\n",
    "exp_data_file = data_file + 'ExpressionModels.tsv'\n",
    "\n",
    "drug_cell_line_file = data_file + 'DrugResponsesAUCModels.tsv'\n",
    "#download at https://ftp.sanger.ac.uk/pub4/cancerrxgene/releases/release-6.0/v17_fitted_dose_response.xlsx\n",
    "\n",
    "#cell_line_detail_file = data_file + 'Cell_Lines_Details.csv'\n",
    "mutation_data_file = data_file + 'SNVsModels.tsv'\n",
    "drug_target_file ='/data/drug_targets.tsv'\n",
    "\n",
    "feature_folder = 'feature/'\n",
    "\n",
    "inbiomap_file = 'InBioMap_Symbol.sif'\n",
    "pathwaycomm_file = 'PathwayCommons_Symbol.sif'\n",
    "\n",
    "pd.set_option('display.max_columns', 20)\n",
    "pd.set_option('display.max_row', 10)"
   ]
  },
  {
   "cell_type": "code",
   "execution_count": 101,
   "metadata": {},
   "outputs": [],
   "source": [
    "exp_df = pd.read_csv(exp_data_file, sep='\\t', index_col=0).fillna(0)\n",
    "exp_df = exp_df.T[1:]\n",
    "#exp_df = exp_df.rename(columns={np.nan: 'NO_GENE_NAME'})\n",
    "#exp_df = exp_df.drop('NO_GENE_NAME',axis=1)\n",
    "\n",
    "def stripNumber(line):\n",
    "    m = re.match('DATA\\.([0-9]+)\\.?', line)\n",
    "    return int(m.group(1))\n",
    "\n",
    "#exp_df.index = exp_df.index.map(stripNumber)\n",
    "#exp_df = exp_df.groupby(level=0).first()\n",
    "exp_df = exp_df[selected_exp_gene_list]\n",
    "\n",
    "exp_gene_list = list(exp_df.columns)\n",
    "exp_cell_line_list = list(exp_df.index.unique())"
   ]
  },
  {
   "cell_type": "code",
   "execution_count": 103,
   "metadata": {},
   "outputs": [
    {
     "data": {
      "text/html": [
       "<div>\n",
       "<style scoped>\n",
       "    .dataframe tbody tr th:only-of-type {\n",
       "        vertical-align: middle;\n",
       "    }\n",
       "\n",
       "    .dataframe tbody tr th {\n",
       "        vertical-align: top;\n",
       "    }\n",
       "\n",
       "    .dataframe thead th {\n",
       "        text-align: right;\n",
       "    }\n",
       "</style>\n",
       "<table border=\"1\" class=\"dataframe\">\n",
       "  <thead>\n",
       "    <tr style=\"text-align: right;\">\n",
       "      <th>Symbol</th>\n",
       "      <th>ABCA13</th>\n",
       "      <th>ACIN1</th>\n",
       "      <th>ADCY4</th>\n",
       "      <th>AR</th>\n",
       "      <th>ARID1B</th>\n",
       "      <th>BRD7</th>\n",
       "      <th>BZRAP1</th>\n",
       "      <th>CCDC155</th>\n",
       "      <th>CDC27</th>\n",
       "      <th>CKAP4</th>\n",
       "      <th>...</th>\n",
       "      <th>RYR3</th>\n",
       "      <th>SETD1A</th>\n",
       "      <th>SMYD5</th>\n",
       "      <th>SP8</th>\n",
       "      <th>SRRM2</th>\n",
       "      <th>SUPT6H</th>\n",
       "      <th>SYNE1</th>\n",
       "      <th>TCF20</th>\n",
       "      <th>TP53</th>\n",
       "      <th>TTN</th>\n",
       "    </tr>\n",
       "  </thead>\n",
       "  <tbody>\n",
       "    <tr>\n",
       "      <th>AB521M</th>\n",
       "      <td>0.0</td>\n",
       "      <td>0.0</td>\n",
       "      <td>0.0</td>\n",
       "      <td>0.0</td>\n",
       "      <td>0.0</td>\n",
       "      <td>0.0</td>\n",
       "      <td>0.0</td>\n",
       "      <td>0.0</td>\n",
       "      <td>0.0</td>\n",
       "      <td>0.0</td>\n",
       "      <td>...</td>\n",
       "      <td>0.0</td>\n",
       "      <td>0.0</td>\n",
       "      <td>1.0</td>\n",
       "      <td>0.0</td>\n",
       "      <td>1.0</td>\n",
       "      <td>1.0</td>\n",
       "      <td>0.0</td>\n",
       "      <td>1.0</td>\n",
       "      <td>1.0</td>\n",
       "      <td>0.0</td>\n",
       "    </tr>\n",
       "    <tr>\n",
       "      <th>AB551</th>\n",
       "      <td>0.0</td>\n",
       "      <td>0.0</td>\n",
       "      <td>0.0</td>\n",
       "      <td>1.0</td>\n",
       "      <td>0.0</td>\n",
       "      <td>0.0</td>\n",
       "      <td>0.0</td>\n",
       "      <td>0.0</td>\n",
       "      <td>1.0</td>\n",
       "      <td>1.0</td>\n",
       "      <td>...</td>\n",
       "      <td>1.0</td>\n",
       "      <td>0.0</td>\n",
       "      <td>0.0</td>\n",
       "      <td>1.0</td>\n",
       "      <td>0.0</td>\n",
       "      <td>0.0</td>\n",
       "      <td>0.0</td>\n",
       "      <td>0.0</td>\n",
       "      <td>1.0</td>\n",
       "      <td>0.0</td>\n",
       "    </tr>\n",
       "    <tr>\n",
       "      <th>AB555</th>\n",
       "      <td>0.0</td>\n",
       "      <td>0.0</td>\n",
       "      <td>0.0</td>\n",
       "      <td>0.0</td>\n",
       "      <td>1.0</td>\n",
       "      <td>0.0</td>\n",
       "      <td>0.0</td>\n",
       "      <td>1.0</td>\n",
       "      <td>0.0</td>\n",
       "      <td>0.0</td>\n",
       "      <td>...</td>\n",
       "      <td>0.0</td>\n",
       "      <td>0.0</td>\n",
       "      <td>0.0</td>\n",
       "      <td>0.0</td>\n",
       "      <td>0.0</td>\n",
       "      <td>0.0</td>\n",
       "      <td>0.0</td>\n",
       "      <td>0.0</td>\n",
       "      <td>0.0</td>\n",
       "      <td>0.0</td>\n",
       "    </tr>\n",
       "    <tr>\n",
       "      <th>AB559</th>\n",
       "      <td>0.0</td>\n",
       "      <td>0.0</td>\n",
       "      <td>0.0</td>\n",
       "      <td>0.0</td>\n",
       "      <td>0.0</td>\n",
       "      <td>0.0</td>\n",
       "      <td>0.0</td>\n",
       "      <td>0.0</td>\n",
       "      <td>0.0</td>\n",
       "      <td>0.0</td>\n",
       "      <td>...</td>\n",
       "      <td>0.0</td>\n",
       "      <td>1.0</td>\n",
       "      <td>1.0</td>\n",
       "      <td>0.0</td>\n",
       "      <td>0.0</td>\n",
       "      <td>0.0</td>\n",
       "      <td>0.0</td>\n",
       "      <td>0.0</td>\n",
       "      <td>1.0</td>\n",
       "      <td>1.0</td>\n",
       "    </tr>\n",
       "    <tr>\n",
       "      <th>AB580</th>\n",
       "      <td>0.0</td>\n",
       "      <td>1.0</td>\n",
       "      <td>0.0</td>\n",
       "      <td>0.0</td>\n",
       "      <td>0.0</td>\n",
       "      <td>0.0</td>\n",
       "      <td>0.0</td>\n",
       "      <td>0.0</td>\n",
       "      <td>0.0</td>\n",
       "      <td>0.0</td>\n",
       "      <td>...</td>\n",
       "      <td>0.0</td>\n",
       "      <td>0.0</td>\n",
       "      <td>0.0</td>\n",
       "      <td>0.0</td>\n",
       "      <td>0.0</td>\n",
       "      <td>0.0</td>\n",
       "      <td>0.0</td>\n",
       "      <td>0.0</td>\n",
       "      <td>0.0</td>\n",
       "      <td>0.0</td>\n",
       "    </tr>\n",
       "    <tr>\n",
       "      <th>...</th>\n",
       "      <td>...</td>\n",
       "      <td>...</td>\n",
       "      <td>...</td>\n",
       "      <td>...</td>\n",
       "      <td>...</td>\n",
       "      <td>...</td>\n",
       "      <td>...</td>\n",
       "      <td>...</td>\n",
       "      <td>...</td>\n",
       "      <td>...</td>\n",
       "      <td>...</td>\n",
       "      <td>...</td>\n",
       "      <td>...</td>\n",
       "      <td>...</td>\n",
       "      <td>...</td>\n",
       "      <td>...</td>\n",
       "      <td>...</td>\n",
       "      <td>...</td>\n",
       "      <td>...</td>\n",
       "      <td>...</td>\n",
       "      <td>...</td>\n",
       "    </tr>\n",
       "    <tr>\n",
       "      <th>VHIO102</th>\n",
       "      <td>0.0</td>\n",
       "      <td>0.0</td>\n",
       "      <td>1.0</td>\n",
       "      <td>1.0</td>\n",
       "      <td>1.0</td>\n",
       "      <td>1.0</td>\n",
       "      <td>0.0</td>\n",
       "      <td>0.0</td>\n",
       "      <td>0.0</td>\n",
       "      <td>0.0</td>\n",
       "      <td>...</td>\n",
       "      <td>0.0</td>\n",
       "      <td>1.0</td>\n",
       "      <td>0.0</td>\n",
       "      <td>0.0</td>\n",
       "      <td>1.0</td>\n",
       "      <td>1.0</td>\n",
       "      <td>0.0</td>\n",
       "      <td>0.0</td>\n",
       "      <td>1.0</td>\n",
       "      <td>0.0</td>\n",
       "    </tr>\n",
       "    <tr>\n",
       "      <th>VHIO124</th>\n",
       "      <td>0.0</td>\n",
       "      <td>0.0</td>\n",
       "      <td>0.0</td>\n",
       "      <td>0.0</td>\n",
       "      <td>0.0</td>\n",
       "      <td>0.0</td>\n",
       "      <td>0.0</td>\n",
       "      <td>0.0</td>\n",
       "      <td>0.0</td>\n",
       "      <td>0.0</td>\n",
       "      <td>...</td>\n",
       "      <td>0.0</td>\n",
       "      <td>0.0</td>\n",
       "      <td>0.0</td>\n",
       "      <td>0.0</td>\n",
       "      <td>1.0</td>\n",
       "      <td>0.0</td>\n",
       "      <td>1.0</td>\n",
       "      <td>0.0</td>\n",
       "      <td>1.0</td>\n",
       "      <td>1.0</td>\n",
       "    </tr>\n",
       "    <tr>\n",
       "      <th>VHIO131IGFRES</th>\n",
       "      <td>0.0</td>\n",
       "      <td>0.0</td>\n",
       "      <td>0.0</td>\n",
       "      <td>1.0</td>\n",
       "      <td>0.0</td>\n",
       "      <td>0.0</td>\n",
       "      <td>1.0</td>\n",
       "      <td>0.0</td>\n",
       "      <td>0.0</td>\n",
       "      <td>0.0</td>\n",
       "      <td>...</td>\n",
       "      <td>1.0</td>\n",
       "      <td>0.0</td>\n",
       "      <td>0.0</td>\n",
       "      <td>0.0</td>\n",
       "      <td>0.0</td>\n",
       "      <td>0.0</td>\n",
       "      <td>0.0</td>\n",
       "      <td>0.0</td>\n",
       "      <td>1.0</td>\n",
       "      <td>1.0</td>\n",
       "    </tr>\n",
       "    <tr>\n",
       "      <th>VHIO179</th>\n",
       "      <td>0.0</td>\n",
       "      <td>0.0</td>\n",
       "      <td>0.0</td>\n",
       "      <td>1.0</td>\n",
       "      <td>0.0</td>\n",
       "      <td>0.0</td>\n",
       "      <td>0.0</td>\n",
       "      <td>0.0</td>\n",
       "      <td>0.0</td>\n",
       "      <td>0.0</td>\n",
       "      <td>...</td>\n",
       "      <td>0.0</td>\n",
       "      <td>0.0</td>\n",
       "      <td>0.0</td>\n",
       "      <td>0.0</td>\n",
       "      <td>1.0</td>\n",
       "      <td>0.0</td>\n",
       "      <td>0.0</td>\n",
       "      <td>0.0</td>\n",
       "      <td>1.0</td>\n",
       "      <td>0.0</td>\n",
       "    </tr>\n",
       "    <tr>\n",
       "      <th>VHIO244</th>\n",
       "      <td>0.0</td>\n",
       "      <td>0.0</td>\n",
       "      <td>1.0</td>\n",
       "      <td>0.0</td>\n",
       "      <td>0.0</td>\n",
       "      <td>0.0</td>\n",
       "      <td>0.0</td>\n",
       "      <td>0.0</td>\n",
       "      <td>0.0</td>\n",
       "      <td>1.0</td>\n",
       "      <td>...</td>\n",
       "      <td>0.0</td>\n",
       "      <td>0.0</td>\n",
       "      <td>0.0</td>\n",
       "      <td>0.0</td>\n",
       "      <td>0.0</td>\n",
       "      <td>0.0</td>\n",
       "      <td>0.0</td>\n",
       "      <td>0.0</td>\n",
       "      <td>1.0</td>\n",
       "      <td>1.0</td>\n",
       "    </tr>\n",
       "  </tbody>\n",
       "</table>\n",
       "<p>33 rows × 43 columns</p>\n",
       "</div>"
      ],
      "text/plain": [
       "Symbol        ABCA13 ACIN1 ADCY4   AR ARID1B BRD7 BZRAP1 CCDC155 CDC27 CKAP4  \\\n",
       "AB521M           0.0   0.0   0.0  0.0    0.0  0.0    0.0     0.0   0.0   0.0   \n",
       "AB551            0.0   0.0   0.0  1.0    0.0  0.0    0.0     0.0   1.0   1.0   \n",
       "AB555            0.0   0.0   0.0  0.0    1.0  0.0    0.0     1.0   0.0   0.0   \n",
       "AB559            0.0   0.0   0.0  0.0    0.0  0.0    0.0     0.0   0.0   0.0   \n",
       "AB580            0.0   1.0   0.0  0.0    0.0  0.0    0.0     0.0   0.0   0.0   \n",
       "...              ...   ...   ...  ...    ...  ...    ...     ...   ...   ...   \n",
       "VHIO102          0.0   0.0   1.0  1.0    1.0  1.0    0.0     0.0   0.0   0.0   \n",
       "VHIO124          0.0   0.0   0.0  0.0    0.0  0.0    0.0     0.0   0.0   0.0   \n",
       "VHIO131IGFRES    0.0   0.0   0.0  1.0    0.0  0.0    1.0     0.0   0.0   0.0   \n",
       "VHIO179          0.0   0.0   0.0  1.0    0.0  0.0    0.0     0.0   0.0   0.0   \n",
       "VHIO244          0.0   0.0   1.0  0.0    0.0  0.0    0.0     0.0   0.0   1.0   \n",
       "\n",
       "Symbol         ... RYR3 SETD1A SMYD5  SP8 SRRM2 SUPT6H SYNE1 TCF20 TP53  TTN  \n",
       "AB521M         ...  0.0    0.0   1.0  0.0   1.0    1.0   0.0   1.0  1.0  0.0  \n",
       "AB551          ...  1.0    0.0   0.0  1.0   0.0    0.0   0.0   0.0  1.0  0.0  \n",
       "AB555          ...  0.0    0.0   0.0  0.0   0.0    0.0   0.0   0.0  0.0  0.0  \n",
       "AB559          ...  0.0    1.0   1.0  0.0   0.0    0.0   0.0   0.0  1.0  1.0  \n",
       "AB580          ...  0.0    0.0   0.0  0.0   0.0    0.0   0.0   0.0  0.0  0.0  \n",
       "...            ...  ...    ...   ...  ...   ...    ...   ...   ...  ...  ...  \n",
       "VHIO102        ...  0.0    1.0   0.0  0.0   1.0    1.0   0.0   0.0  1.0  0.0  \n",
       "VHIO124        ...  0.0    0.0   0.0  0.0   1.0    0.0   1.0   0.0  1.0  1.0  \n",
       "VHIO131IGFRES  ...  1.0    0.0   0.0  0.0   0.0    0.0   0.0   0.0  1.0  1.0  \n",
       "VHIO179        ...  0.0    0.0   0.0  0.0   1.0    0.0   0.0   0.0  1.0  0.0  \n",
       "VHIO244        ...  0.0    0.0   0.0  0.0   0.0    0.0   0.0   0.0  1.0  1.0  \n",
       "\n",
       "[33 rows x 43 columns]"
      ]
     },
     "execution_count": 103,
     "metadata": {},
     "output_type": "execute_result"
    }
   ],
   "source": [
    "maf = pd.read_csv(mutation_data_file, sep='\\t', index_col=0).fillna(0)\n",
    "mutation_df= maf.replace(to_replace=\"NO\",value=0.0)\n",
    "mutation_df= mutation_df.replace(to_replace=\"chr*\",value=1.0,regex=True)\n",
    "# print len(mutation_cell_line_list), len(mutation_gene_list)\n",
    "mutation_df = mutation_df.transpose()\n",
    "mutation_df = mutation_df[selected_mut_gene_list]\n",
    "mutation_gene_list = list(mutation_df.columns)\n",
    "mutation_cell_line_list = list(mutation_df.index.unique())\n",
    "mutation_df"
   ]
  },
  {
   "cell_type": "code",
   "execution_count": 104,
   "metadata": {},
   "outputs": [],
   "source": [
    "file_handle = open(drug_target_file)\n",
    "\n",
    "drug_target_map = {}\n",
    "drug_target_list = []\n",
    "for line in file_handle:\n",
    "    \n",
    "    new_line = line.rstrip().split(\"\\t\")\n",
    "    drug = new_line[0]\n",
    "    target_list=new_line[1].split(',')\n",
    "    if drug != \"Drug\":\n",
    "        target_list_str = \"\"\n",
    "        for i in range(0,len(target_list)):\n",
    "            if i == len(target_list) - 1:\n",
    "                target_list_str += target_list[i].replace('\"','')\n",
    "            else:\n",
    "                target_list_str += target_list[i].replace('\"','') + \",\"\n",
    "        drug = drug.strip()\n",
    "\n",
    "        drug_target_map[drug] = []\n",
    "        if ',' not in target_list_str:\n",
    "            drug_target_map[drug].append(target_list_str.strip())\n",
    "            drug_target_list.append(target_list_str.strip())\n",
    "        else:\n",
    "            target_list = target_list_str.split(',')\n",
    "            for target in target_list:\n",
    "                drug_target_map[drug].append(target.strip())\n",
    "                drug_target_list.append(target.strip())\n",
    "\n",
    "# print len(drug_target_list)\n",
    "# print drug_target_map"
   ]
  },
  {
   "cell_type": "code",
   "execution_count": 105,
   "metadata": {
    "tags": []
   },
   "outputs": [],
   "source": [
    "drugs_legend = pd.read_csv('/data/GDSC/Screened_Compounds.csv', sep=',', index_col=0)\n",
    "\n",
    "drug2id_mapping = {}\n",
    "\n",
    "for index in list(drugs_legend.index) :\n",
    "    drug_name = drugs_legend.loc[index,'Drug Name']\n",
    "    drug2id_mapping[ drug_name ] = index\n"
   ]
  },
  {
   "cell_type": "code",
   "execution_count": 106,
   "metadata": {},
   "outputs": [
    {
     "data": {
      "text/plain": [
       "153"
      ]
     },
     "execution_count": 109,
     "metadata": {},
     "output_type": "execute_result"
    }
   ],
   "source": [
    "valid_gene_list = list(set(drug_target_list) | set(exp_gene_list) | set(mutation_gene_list))"
   ]
  },
  {
   "cell_type": "code",
   "execution_count": 112,
   "metadata": {},
   "outputs": [],
   "source": [
    "network_list = [new_network_file+inbiomap_file, new_network_file+pathwaycomm_file]\n",
    "gene_neighbor_map =  load_network(network_list, valid_gene_list)"
   ]
  },
  {
   "cell_type": "code",
   "execution_count": 113,
   "metadata": {},
   "outputs": [
    {
     "name": "stderr",
     "output_type": "stream",
     "text": [
      "/opt/conda/lib/python3.7/site-packages/IPython/core/interactiveshell.py:3457: DtypeWarning: Columns (31,38) have mixed types.Specify dtype option on import or set low_memory=False.\n",
      "  exec(code_obj, self.user_global_ns, self.user_ns)\n"
     ]
    }
   ],
   "source": [
    "gene_name_df = pd.read_table('/data/HUGO_protein-coding_gene.tsv',index_col=25, sep='\\t')"
   ]
  },
  {
   "cell_type": "code",
   "execution_count": 114,
   "metadata": {
    "tags": []
   },
   "outputs": [],
   "source": [
    "gene_name_map = {}\n",
    "\n",
    "for uniprot_gene in gene_name_df.index:\n",
    "    ## print uniprot_gene\n",
    "    if isinstance(uniprot_gene, type('aaa')) == False:\n",
    "        continue\n",
    "    \n",
    "    if isinstance(gene_name_df.loc[uniprot_gene, 'symbol'], type('aaa')) == False:\n",
    "        gene_name_map[uniprot_gene] = gene_name_df.loc[uniprot_gene, 'symbol'][0]\n",
    "    else:\n",
    "        gene_name_map[uniprot_gene] = gene_name_df.loc[uniprot_gene, 'symbol']"
   ]
  },
  {
   "cell_type": "code",
   "execution_count": 115,
   "metadata": {},
   "outputs": [
    {
     "name": "stdout",
     "output_type": "stream",
     "text": [
      "querying 1-43...done.\n",
      "Finished.\n",
      "1 input query terms found dup hits:\n",
      "\t[('P01871', 2)]\n",
      "25 input query terms found no hit:\n",
      "\t['Q59EJ3', 'Q13791', 'Q9NZL9-', 'Q8BFT2', 'Q0VAK7', 'A1Z199', 'Q1EHW4', 'Q9NY11', 'Q3V639', 'Q80VC6'\n",
      "Pass \"returnall=True\" to return complete lists of duplicate or missing query terms.\n"
     ]
    }
   ],
   "source": [
    "corum_df = pd.read_table(new_network_file + 'allComplexes.txt', index_col=0)\n",
    "\n",
    "uniprot_gene_set = set()\n",
    "\n",
    "for index in corum_df.index:\n",
    "    \n",
    "    if corum_df.loc[index, 'Organism'] != 'Human':\n",
    "        continue\n",
    "        \n",
    "    complex_list = corum_df.loc[index, 'subunits(UniProt IDs)'].split(';')\n",
    "    \n",
    "    for gene in complex_list:\n",
    "        uniprot_gene_set.add(gene)\n",
    "\n",
    "# print len(uniprot_gene_set), 'genes'\n",
    "\n",
    "query_gene_set = []\n",
    "\n",
    "for gene in uniprot_gene_set:\n",
    "    if gene not in gene_name_map:\n",
    "        query_gene_set.append(gene)\n",
    "    \n",
    "# print 'Need to query', len(query_gene_set)\n",
    "\n",
    "query_gene_list = list(query_gene_set)\n",
    "\n",
    "mg = mygene.MyGeneInfo()\n",
    "out = mg.querymany(query_gene_list, scopes='uniprot', fields='symbol', species='human')\n",
    "\n",
    "not_found_gene_list = []\n",
    "\n",
    "for i, gene in enumerate(query_gene_list):\n",
    "    if 'notfound' in out[i]:\n",
    "        not_found_gene_list.append(gene)\n",
    "    else:\n",
    "        gene_name_map[gene] = out[i]['symbol']\n",
    "        \n",
    "# print len(not_found_gene_list), 'symbol name not found', len(gene_name_map)"
   ]
  },
  {
   "cell_type": "code",
   "execution_count": 116,
   "metadata": {
    "tags": []
   },
   "outputs": [],
   "source": [
    "corum_df = pd.read_table(new_network_file + 'allComplexes.txt', index_col=0)\n",
    "\n",
    "for index in corum_df.index:\n",
    "    \n",
    "    if corum_df.loc[index, 'Organism'] != 'Human':\n",
    "        continue\n",
    "    \n",
    "    complex_list = corum_df.loc[index, 'subunits(UniProt IDs)'].split(';')\n",
    "    \n",
    "    complex_symbol_list = []\n",
    "    \n",
    "    for gene in complex_list:\n",
    "        if gene in gene_name_map:\n",
    "            complex_symbol_list.append( gene_name_map[gene] )\n",
    "\n",
    "    for gene1, gene2 in itertools.combinations(complex_symbol_list,2):\n",
    "        \n",
    "        if gene1 not in gene_neighbor_map:\n",
    "            gene_neighbor_map[gene1] = set()\n",
    "        if gene2 not in gene_neighbor_map:\n",
    "            gene_neighbor_map[gene2] = set()\n",
    "        \n",
    "        gene_neighbor_map[gene1].add(gene2)\n",
    "        gene_neighbor_map[gene2].add(gene1)"
   ]
  },
  {
   "cell_type": "code",
   "execution_count": 117,
   "metadata": {
    "tags": []
   },
   "outputs": [],
   "source": [
    "gene_exp_neighbor_map = {}\n",
    "exp_matrix = exp_df.values\n",
    "\n",
    "P = 1 - cdist(np.transpose(exp_matrix), np.transpose(exp_matrix),'correlation')\n",
    "\n",
    "for i in range(len(exp_gene_list)):\n",
    "    \n",
    "    gene1 = exp_gene_list[i]\n",
    "    gene_exp_neighbor_map[gene1] = set()\n",
    "    \n",
    "    for j in range(len(exp_gene_list)):\n",
    "        \n",
    "        gene2 = exp_gene_list[j]\n",
    "        \n",
    "        if math.fabs(P[i, j]) > 0.4:\n",
    "            gene_exp_neighbor_map[gene1].add(gene2)\n",
    "            \n",
    "    if gene1 not in gene_exp_neighbor_map[gene1]:\n",
    "        print (gene1, 'not in itself?', P[i,i])"
   ]
  },
  {
   "cell_type": "code",
   "execution_count": 118,
   "metadata": {},
   "outputs": [],
   "source": [
    "selected_drugs = pd.read_csv(\"/data/Selected Drugs.csv\")[\"Drug name\"].tolist()"
   ]
  },
  {
   "cell_type": "code",
   "execution_count": 119,
   "metadata": {},
   "outputs": [
    {
     "name": "stderr",
     "output_type": "stream",
     "text": [
      "/opt/conda/lib/python3.7/site-packages/seaborn/distributions.py:2619: FutureWarning: `distplot` is a deprecated function and will be removed in a future version. Please adapt your code to use either `displot` (a figure-level function with similar flexibility) or `histplot` (an axes-level function for histograms).\n",
      "  warnings.warn(msg, FutureWarning)\n"
     ]
    },
    {
     "data": {
      "text/plain": [
       "<AxesSubplot:>"
      ]
     },
     "execution_count": 119,
     "metadata": {},
     "output_type": "execute_result"
    },
    {
     "data": {
      "image/png": "[encoded data removed]",
      "text/plain": [
       "<Figure size 432x288 with 1 Axes>"
      ]
     },
     "metadata": {},
     "output_type": "display_data"
    }
   ],
   "source": [
    "drug_feature_list = []\n",
    "drug_neighbor_map = {}\n",
    "selected_drug_list = []\n",
    "\n",
    "for drug, target_list in drug_target_map.items():\n",
    "    if drug in selected_drugs:\n",
    "        drug_neighbor_map[drug] = set()\n",
    "\n",
    "        for gene in target_list:\n",
    "\n",
    "            if gene not in gene_exp_neighbor_map and gene not in gene_neighbor_map:\n",
    "                continue\n",
    "\n",
    "            if gene in gene_exp_neighbor_map:\n",
    "                drug_neighbor_map[drug] = drug_neighbor_map[drug] | gene_exp_neighbor_map[gene]\n",
    "\n",
    "            if gene in gene_neighbor_map:\n",
    "                drug_neighbor_map[drug] = drug_neighbor_map[drug] | gene_neighbor_map[gene]\n",
    "\n",
    "        if len(drug_neighbor_map[drug]) != 0:\n",
    "             selected_drug_list.append(drug)\n",
    "             drug_feature_list.append( len(drug_neighbor_map[drug]) )\n",
    "sns.set_style(\"whitegrid\")\n",
    "sns.set_context(\"talk\")\n",
    "sns.distplot(drug_feature_list,color='r',bins=60,kde=False,norm_hist=False)"
   ]
  },
  {
   "cell_type": "code",
   "execution_count": 121,
   "metadata": {},
   "outputs": [
    {
     "data": {
      "text/html": [
       "<div>\n",
       "<style scoped>\n",
       "    .dataframe tbody tr th:only-of-type {\n",
       "        vertical-align: middle;\n",
       "    }\n",
       "\n",
       "    .dataframe tbody tr th {\n",
       "        vertical-align: top;\n",
       "    }\n",
       "\n",
       "    .dataframe thead th {\n",
       "        text-align: right;\n",
       "    }\n",
       "</style>\n",
       "<table border=\"1\" class=\"dataframe\">\n",
       "  <thead>\n",
       "    <tr style=\"text-align: right;\">\n",
       "      <th></th>\n",
       "      <th>Drug</th>\n",
       "      <th>AUC</th>\n",
       "      <th>iC50</th>\n",
       "      <th>D1_CONC</th>\n",
       "      <th>D5_CONC</th>\n",
       "      <th>perc.iC50</th>\n",
       "    </tr>\n",
       "    <tr>\n",
       "      <th>Model</th>\n",
       "      <th></th>\n",
       "      <th></th>\n",
       "      <th></th>\n",
       "      <th></th>\n",
       "      <th></th>\n",
       "      <th></th>\n",
       "    </tr>\n",
       "  </thead>\n",
       "  <tbody>\n",
       "    <tr>\n",
       "      <th>HCI001</th>\n",
       "      <td>(5Z)-7-Oxozeaenol</td>\n",
       "      <td>0.217813</td>\n",
       "      <td>5.483270e+00</td>\n",
       "      <td>7.701322</td>\n",
       "      <td>2.337740</td>\n",
       "      <td>71.507443</td>\n",
       "    </tr>\n",
       "    <tr>\n",
       "      <th>HCI001</th>\n",
       "      <td>17-AAG</td>\n",
       "      <td>0.301919</td>\n",
       "      <td>1.834974e+04</td>\n",
       "      <td>1.000000</td>\n",
       "      <td>0.003906</td>\n",
       "      <td>183.038003</td>\n",
       "    </tr>\n",
       "    <tr>\n",
       "      <th>HCI001</th>\n",
       "      <td>5-Fluorouracil</td>\n",
       "      <td>0.494210</td>\n",
       "      <td>1.350264e+00</td>\n",
       "      <td>20.000000</td>\n",
       "      <td>0.078125</td>\n",
       "      <td>51.391421</td>\n",
       "    </tr>\n",
       "    <tr>\n",
       "      <th>HCI001</th>\n",
       "      <td>681640</td>\n",
       "      <td>0.102932</td>\n",
       "      <td>1.521258e+02</td>\n",
       "      <td>2.000000</td>\n",
       "      <td>0.007812</td>\n",
       "      <td>150.681089</td>\n",
       "    </tr>\n",
       "    <tr>\n",
       "      <th>HCI001</th>\n",
       "      <td>ABT-263</td>\n",
       "      <td>0.497307</td>\n",
       "      <td>1.246564e-01</td>\n",
       "      <td>2.000000</td>\n",
       "      <td>0.007812</td>\n",
       "      <td>49.591347</td>\n",
       "    </tr>\n",
       "    <tr>\n",
       "      <th>...</th>\n",
       "      <td>...</td>\n",
       "      <td>...</td>\n",
       "      <td>...</td>\n",
       "      <td>...</td>\n",
       "      <td>...</td>\n",
       "      <td>...</td>\n",
       "    </tr>\n",
       "    <tr>\n",
       "      <th>VHIO244</th>\n",
       "      <td>Vorinostat</td>\n",
       "      <td>0.560835</td>\n",
       "      <td>4.783231e-01</td>\n",
       "      <td>10.000000</td>\n",
       "      <td>0.039062</td>\n",
       "      <td>44.636232</td>\n",
       "    </tr>\n",
       "    <tr>\n",
       "      <th>VHIO244</th>\n",
       "      <td>XAV 939</td>\n",
       "      <td>0.080441</td>\n",
       "      <td>1.033271e+05</td>\n",
       "      <td>5.581430</td>\n",
       "      <td>1.175631</td>\n",
       "      <td>702.942004</td>\n",
       "    </tr>\n",
       "    <tr>\n",
       "      <th>VHIO244</th>\n",
       "      <td>YK 4-279</td>\n",
       "      <td>0.216032</td>\n",
       "      <td>8.690911e+00</td>\n",
       "      <td>7.701322</td>\n",
       "      <td>2.337740</td>\n",
       "      <td>79.903643</td>\n",
       "    </tr>\n",
       "    <tr>\n",
       "      <th>VHIO244</th>\n",
       "      <td>ZM-447439</td>\n",
       "      <td>0.127893</td>\n",
       "      <td>1.493730e+06</td>\n",
       "      <td>3.275568</td>\n",
       "      <td>0.740057</td>\n",
       "      <td>587.743723</td>\n",
       "    </tr>\n",
       "    <tr>\n",
       "      <th>VHIO244</th>\n",
       "      <td>mirin</td>\n",
       "      <td>0.245509</td>\n",
       "      <td>3.940771e+01</td>\n",
       "      <td>100.000000</td>\n",
       "      <td>0.390625</td>\n",
       "      <td>80.132887</td>\n",
       "    </tr>\n",
       "  </tbody>\n",
       "</table>\n",
       "<p>1636 rows × 6 columns</p>\n",
       "</div>"
      ],
      "text/plain": [
       "                      Drug       AUC          iC50     D1_CONC   D5_CONC  \\\n",
       "Model                                                                      \n",
       "HCI001   (5Z)-7-Oxozeaenol  0.217813  5.483270e+00    7.701322  2.337740   \n",
       "HCI001              17-AAG  0.301919  1.834974e+04    1.000000  0.003906   \n",
       "HCI001      5-Fluorouracil  0.494210  1.350264e+00   20.000000  0.078125   \n",
       "HCI001              681640  0.102932  1.521258e+02    2.000000  0.007812   \n",
       "HCI001             ABT-263  0.497307  1.246564e-01    2.000000  0.007812   \n",
       "...                    ...       ...           ...         ...       ...   \n",
       "VHIO244         Vorinostat  0.560835  4.783231e-01   10.000000  0.039062   \n",
       "VHIO244            XAV 939  0.080441  1.033271e+05    5.581430  1.175631   \n",
       "VHIO244           YK 4-279  0.216032  8.690911e+00    7.701322  2.337740   \n",
       "VHIO244          ZM-447439  0.127893  1.493730e+06    3.275568  0.740057   \n",
       "VHIO244              mirin  0.245509  3.940771e+01  100.000000  0.390625   \n",
       "\n",
       "          perc.iC50  \n",
       "Model                \n",
       "HCI001    71.507443  \n",
       "HCI001   183.038003  \n",
       "HCI001    51.391421  \n",
       "HCI001   150.681089  \n",
       "HCI001    49.591347  \n",
       "...             ...  \n",
       "VHIO244   44.636232  \n",
       "VHIO244  702.942004  \n",
       "VHIO244   79.903643  \n",
       "VHIO244  587.743723  \n",
       "VHIO244   80.132887  \n",
       "\n",
       "[1636 rows x 6 columns]"
      ]
     },
     "execution_count": 121,
     "metadata": {},
     "output_type": "execute_result"
    }
   ],
   "source": [
    "drugs = pd.read_csv(drug_cell_line_file,sep='\\t',index_col=0)\n",
    "drugs_cell_line_list = list(drugs.index.unique())\n",
    "# print len(drugs_cell_line_list)\n",
    "drugs\n",
    "\n",
    "#cell_line_drug_matrix = drugs.loc[drugs['DRUG_ID'] == 1026]\n",
    "#cell_line_drug_matrix.loc[[924100,910924],'LN_IC50'].values\n",
    "\n",
    "#cell_line_drug_matrix.loc[ [909758, 924247, 924107],'DRUG_ID' ]"
   ]
  },
  {
   "cell_type": "code",
   "execution_count": 122,
   "metadata": {},
   "outputs": [
    {
     "name": "stdout",
     "output_type": "stream",
     "text": [
      "19\n"
     ]
    }
   ],
   "source": [
    "cell_line_list = list(set(drugs_cell_line_list)&set(exp_cell_line_list)&set(mutation_cell_line_list) )\n",
    "print(len(cell_line_list))"
   ]
  },
  {
   "cell_type": "code",
   "execution_count": 123,
   "metadata": {},
   "outputs": [
    {
     "data": {
      "text/plain": [
       "'\\nfile_handle = open(data_file + \"sanger_tissue_cell_line_list.pkl\",\"wb\")\\npickle.dump(tissue_map,file_handle)\\nfile_handle.close()\\n'"
      ]
     },
     "execution_count": 123,
     "metadata": {},
     "output_type": "execute_result"
    }
   ],
   "source": [
    "# cell_line_legend = pd.read_csv(cell_line_detail_file, index_col=1)\n",
    "# ## print cell_line_legend\n",
    "\n",
    "# tissue_map = {}\n",
    "\n",
    "# for cell_line in cell_line_list:\n",
    "    \n",
    "#     tissue = cell_line_legend.loc[cell_line,'Site']\n",
    "    \n",
    "#     if tissue not in tissue_map:\n",
    "#         tissue_map[tissue] = []\n",
    "        \n",
    "#     tissue_map[tissue].append(cell_line)\n",
    "\n",
    "# large_tissue_number = 0\n",
    "# for tissue, cell_line in tissue_map.items():\n",
    "    \n",
    "#     if len(cell_line) >= 15:\n",
    "#         large_tissue_number += 1\n",
    "    \n",
    "#     print (tissue, len(cell_line))\n",
    "tissue_map = {'breast':cell_line_list}\n",
    "\n",
    "# print 'How many tissues', len(tissue_map)\n",
    "# print 'Large tissues', large_tissue_number\n",
    "\n",
    "'''\n",
    "file_handle = open(data_file + \"sanger_tissue_cell_line_list.pkl\",\"wb\")\n",
    "pickle.dump(tissue_map,file_handle)\n",
    "file_handle.close()\n",
    "'''"
   ]
  },
  {
   "cell_type": "code",
   "execution_count": 125,
   "metadata": {},
   "outputs": [],
   "source": [
    "exp_stdev = np.std(exp_df.values, axis=0)\n",
    "exp_perc = np.percentile(exp_stdev,10)\n",
    "filtered_exp_gene_list = np.asarray(exp_gene_list)[exp_stdev > exp_perc]\n",
    "\n",
    "mut_sum = np.sum(mutation_df.values,axis=0)\n",
    "filtered_mut_gene_list = np.asarray(mutation_gene_list)[mut_sum > 5]\n",
    "\n",
    "# print np.sum(exp_stdev > exp_perc), np.sum(mut_sum > 5)#, np.sum(cnv_stdev > cnv_perc)\n",
    "\n",
    "#new_exp_df = exp_df.loc[ cell_line_list, list(filtered_exp_gene_list) ]\n",
    "#new_mutation_df = mutation_df.loc[ cell_line_list, list(filtered_mut_gene_list) ]\n",
    "\n",
    "new_exp_df = exp_df.loc[ :, list(filtered_exp_gene_list) ]\n",
    "new_mutation_df = mutation_df.loc[ :, list(filtered_mut_gene_list) ]"
   ]
  },
  {
   "cell_type": "code",
   "execution_count": 128,
   "metadata": {},
   "outputs": [
    {
     "data": {
      "text/plain": [
       "43"
      ]
     },
     "execution_count": 128,
     "metadata": {},
     "output_type": "execute_result"
    }
   ],
   "source": [
    "len(filtered_mut_gene_list)"
   ]
  },
  {
   "cell_type": "code",
   "execution_count": 129,
   "metadata": {},
   "outputs": [
    {
     "name": "stdout",
     "output_type": "stream",
     "text": [
      "Sorafenib\n",
      "44\n"
     ]
    }
   ],
   "source": [
    "rename_selected_drug_list = []\n",
    "temp = [\"Sorafenib\"]\n",
    "for drug in temp:\n",
    "    print(drug)\n",
    "#     if drug != 'Nutlin-3a (-)':\n",
    "#         continue\n",
    "    \n",
    "    if drug not in drug2id_mapping:\n",
    "        print('drug name wrong', drug)\n",
    "    else:\n",
    "        cell_line_drug_matrix = drugs.loc[drugs['Drug'] == drug]\n",
    "\n",
    "        ## print cell_line_drug_matrix\n",
    "\n",
    "        feature_exp_gene_list = list( set(drug_neighbor_map[drug]) & set(filtered_exp_gene_list) )\n",
    "        feature_mut_gene_list = list( set(drug_neighbor_map[drug]) & set(filtered_mut_gene_list) )\n",
    "        print(len(feature_exp_gene_list) + len(feature_mut_gene_list))\n",
    "        if len(feature_exp_gene_list) + len(feature_mut_gene_list) == 0:\n",
    "            continue\n",
    "        feature_description = []\n",
    "\n",
    "        drug_tissue_map = {}\n",
    "\n",
    "        drug = drug.replace(' ','_')\n",
    "\n",
    "        rename_selected_drug_list.append(drug)\n",
    "\n",
    "        # print drug\n",
    "        if drug == 'Nutlin-3a_(-)':\n",
    "            drug = 'Nutlin-3a'\n",
    "\n",
    "        drug_folder = '/data/drug_feature/' + drug + '/'\n",
    "        if not os.path.exists(drug_folder):\n",
    "            os.makedirs(drug_folder)\n",
    "\n",
    "        # print 'Generate features', drug\n",
    "\n",
    "        for tissue, tissue_cell_line_list in tissue_map.items():\n",
    "\n",
    "            drug_specific_cell_line = set( cell_line_drug_matrix.index ) & set( tissue_cell_line_list )\n",
    "            drug_specific_cell_line = list(drug_specific_cell_line)\n",
    "            drug_tissue_map[tissue] = drug_specific_cell_line\n",
    "\n",
    "            feature_list = []\n",
    "\n",
    "            if len(feature_exp_gene_list) != 0:\n",
    "                feature_list.append(new_exp_df.loc[ drug_specific_cell_line, feature_exp_gene_list ].values)\n",
    "                #for gene in feature_exp_gene_list:\n",
    "                    #feature_description.append(gene+'_expression')\n",
    "\n",
    "            if len(feature_mut_gene_list) != 0:\n",
    "                feature_list.append( mutation_df.loc[ drug_specific_cell_line, feature_mut_gene_list ].values )\n",
    "                #for gene in feature_mut_gene_list:\n",
    "                    #feature_description.append(gene+'_mutation')\n",
    "\n",
    "            feature = np.concatenate(feature_list, axis=1)\n",
    "\n"
   ]
  },
  {
   "cell_type": "code",
   "execution_count": 140,
   "metadata": {},
   "outputs": [
    {
     "data": {
      "text/plain": [
       "232"
      ]
     },
     "execution_count": 140,
     "metadata": {},
     "output_type": "execute_result"
    }
   ],
   "source": [
    "len(drug_neighbor_map[\"AZ628\"])"
   ]
  },
  {
   "cell_type": "code",
   "execution_count": 135,
   "metadata": {},
   "outputs": [
    {
     "name": "stdout",
     "output_type": "stream",
     "text": [
      "681640\n",
      "443\n",
      "AG-014699\n",
      "drug name wrong AG-014699\n",
      "AMG-706\n",
      "drug name wrong AMG-706\n",
      "Axitinib\n",
      "44\n",
      "AZ628\n",
      "216\n",
      "AZD7762\n",
      "530\n",
      "Bosutinib\n",
      "264\n",
      "BX-795\n",
      "drug name wrong BX-795\n",
      "Camptothecin\n",
      "51\n",
      "CEP-701\n",
      "drug name wrong CEP-701\n",
      "CHIR-99021\n",
      "120\n",
      "Embelin\n",
      "46\n",
      "Gefitinib\n",
      "296\n",
      "JNJ-26854165\n",
      "drug name wrong JNJ-26854165\n",
      "JQ1\n",
      "362\n",
      "KU-55933\n",
      "293\n",
      "MK-2206\n",
      "453\n",
      "PD-0332991\n",
      "drug name wrong PD-0332991\n",
      "PD-173074\n",
      "drug name wrong PD-173074\n",
      "PLX4720\n",
      "drug name wrong PLX4720\n",
      "RO-3306\n",
      "424\n",
      "Sorafenib\n",
      "44\n",
      "ZM-447439\n",
      "drug name wrong ZM-447439\n"
     ]
    }
   ],
   "source": [
    "new_data_file = ''\n",
    "\n",
    "# print mutation_df.shape, exp_df.shape\n",
    "\n",
    "exp_stdev = np.std(exp_df.values, axis=0)\n",
    "exp_perc = np.percentile(exp_stdev,10)\n",
    "filtered_exp_gene_list = np.asarray(exp_gene_list)[exp_stdev > exp_perc]\n",
    "\n",
    "mut_sum = np.sum(mutation_df.values,axis=0)\n",
    "filtered_mut_gene_list = np.asarray(mutation_gene_list)[mut_sum > 5]\n",
    "\n",
    "# print np.sum(exp_stdev > exp_perc), np.sum(mut_sum > 5)#, np.sum(cnv_stdev > cnv_perc)\n",
    "\n",
    "#new_exp_df = exp_df.loc[ cell_line_list, list(filtered_exp_gene_list) ]\n",
    "#new_mutation_df = mutation_df.loc[ cell_line_list, list(filtered_mut_gene_list) ]\n",
    "\n",
    "new_exp_df = exp_df.loc[ :, list(filtered_exp_gene_list) ]\n",
    "new_mutation_df = mutation_df.loc[ :, list(filtered_mut_gene_list) ]\n",
    "\n",
    "#cell_line2id = dict(zip(cell_line_list, range(len(cell_line_list))))\n",
    "\n",
    "rename_selected_drug_list = []\n",
    "\n",
    "for drug in selected_drug_list:\n",
    "    print(drug)\n",
    "#     if drug != 'Nutlin-3a (-)':\n",
    "#         continue\n",
    "    \n",
    "    if drug not in drug2id_mapping:\n",
    "        print('drug name wrong', drug)\n",
    "    else:\n",
    "        cell_line_drug_matrix = drugs.loc[drugs['Drug'] == drug]\n",
    "\n",
    "        ## print cell_line_drug_matrix\n",
    "\n",
    "        feature_exp_gene_list = list( set(drug_neighbor_map[drug]) & set(filtered_exp_gene_list) )\n",
    "        feature_mut_gene_list = list( set(drug_neighbor_map[drug]) & set(filtered_mut_gene_list) )\n",
    "        print(len(feature_exp_gene_list) + len(feature_mut_gene_list))\n",
    "        if len(feature_exp_gene_list) + len(feature_mut_gene_list) == 0:\n",
    "            continue\n",
    "        feature_description = []\n",
    "\n",
    "        drug_tissue_map = {}\n",
    "\n",
    "        drug = drug.replace(' ','_')\n",
    "\n",
    "        rename_selected_drug_list.append(drug)\n",
    "\n",
    "        # print drug\n",
    "        if drug == 'Nutlin-3a_(-)':\n",
    "            drug = 'Nutlin-3a'\n",
    "\n",
    "        drug_folder = '/data/drug_feature/' + drug + '/'\n",
    "        if not os.path.exists(drug_folder):\n",
    "            os.makedirs(drug_folder)\n",
    "\n",
    "        # print 'Generate features', drug\n",
    "\n",
    "        for tissue, tissue_cell_line_list in tissue_map.items():\n",
    "\n",
    "            drug_specific_cell_line = set( cell_line_drug_matrix.index ) & set( tissue_cell_line_list )\n",
    "            drug_specific_cell_line = list(drug_specific_cell_line)\n",
    "            drug_tissue_map[tissue] = drug_specific_cell_line\n",
    "\n",
    "            feature_list = []\n",
    "\n",
    "            if len(feature_exp_gene_list) != 0:\n",
    "                feature_list.append(new_exp_df.loc[ drug_specific_cell_line, feature_exp_gene_list ].values)\n",
    "                #for gene in feature_exp_gene_list:\n",
    "                    #feature_description.append(gene+'_expression')\n",
    "\n",
    "            if len(feature_mut_gene_list) != 0:\n",
    "                feature_list.append( mutation_df.loc[ drug_specific_cell_line, feature_mut_gene_list ].values )\n",
    "                #for gene in feature_mut_gene_list:\n",
    "                    #feature_description.append(gene+'_mutation')\n",
    "\n",
    "            feature = np.concatenate(feature_list, axis=1)\n",
    "\n",
    "            label = cell_line_drug_matrix.loc[ drug_specific_cell_line,'LN_IC50'].values\n",
    "\n",
    "            #label = new_crispr_df.loc[ tissue_cell_line_list, label_gene ].values\n",
    "\n",
    "            # print feature.shape, label.shape\n",
    "\n",
    "            np.save(drug_folder + 'PDTC_' + drug + '_feature.npy', feature )\n",
    "            np.save(drug_folder + 'PDTC' + '_' + drug + '_label.npy', label)\n",
    "            #np.save(drug_folder + tissue + '_feature_description.npy', np.asarray(feature_description))\n",
    "\n",
    "        # file_handle = open(new_data_file + drug+'_tissue_cell_line_list.pkl',\"wb\")\n",
    "        # pickle.dump(drug_tissue_map,file_handle)\n",
    "        # file_handle.close()\n",
    "    \n",
    "file_handle = open('rename_selected_drug_list', 'w')\n",
    "for drug in rename_selected_drug_list:\n",
    "    file_handle.writelines(drug+ '\\n')\n",
    "file_handle.close()\n"
   ]
  },
  {
   "cell_type": "code",
   "execution_count": 80,
   "metadata": {},
   "outputs": [
    {
     "data": {
      "text/plain": [
       "[]"
      ]
     },
     "execution_count": 80,
     "metadata": {},
     "output_type": "execute_result"
    }
   ],
   "source": [
    "drug_specific_cell_line"
   ]
  },
  {
   "cell_type": "code",
   "execution_count": 85,
   "metadata": {},
   "outputs": [
    {
     "data": {
      "text/plain": [
       "1"
      ]
     },
     "execution_count": 85,
     "metadata": {},
     "output_type": "execute_result"
    }
   ],
   "source": [
    "len(drug_specific_cell_line)"
   ]
  },
  {
   "cell_type": "code",
   "execution_count": 86,
   "metadata": {},
   "outputs": [
    {
     "data": {
      "text/plain": [
       "14"
      ]
     },
     "execution_count": 86,
     "metadata": {},
     "output_type": "execute_result"
    }
   ],
   "source": [
    "len(drug_tissue_map['breast'])"
   ]
  },
  {
   "cell_type": "code",
   "execution_count": 87,
   "metadata": {},
   "outputs": [],
   "source": [
    "import pickle"
   ]
  },
  {
   "cell_type": "code",
   "execution_count": 37,
   "metadata": {},
   "outputs": [],
   "source": [
    "cell_line_loc = '/cellar/users/samsonfong/Projects/tcrp-v2/from-ma/cell_line_lists/'"
   ]
  },
  {
   "cell_type": "code",
   "execution_count": 38,
   "metadata": {},
   "outputs": [],
   "source": [
    "with open('/data/drug_feature/KU-55933/KU', 'rb') as f: \n",
    "    tmap= pickle.load(f)"
   ]
  },
  {
   "cell_type": "code",
   "execution_count": 59,
   "metadata": {},
   "outputs": [
    {
     "data": {
      "text/plain": [
       "array([], dtype='<U24')"
      ]
     },
     "execution_count": 59,
     "metadata": {},
     "output_type": "execute_result"
    }
   ],
   "source": [
    "filtered_exp_gene_list"
   ]
  },
  {
   "cell_type": "code",
   "execution_count": 49,
   "metadata": {},
   "outputs": [
    {
     "data": {
      "text/plain": [
       "137"
      ]
     },
     "execution_count": 49,
     "metadata": {},
     "output_type": "execute_result"
    }
   ],
   "source": [
    "len(tmap['lung'])"
   ]
  },
  {
   "cell_type": "code",
   "execution_count": 76,
   "metadata": {},
   "outputs": [],
   "source": [
    "f = np.load(\"/data/Sorafenib/lung_Sorafenib_feature.npy\",allow_pickle=True)"
   ]
  },
  {
   "cell_type": "code",
   "execution_count": 77,
   "metadata": {},
   "outputs": [],
   "source": [
    "s = np.load(\"/data/Sorafenib/PDTC_Sorafenib_feature.npy\",allow_pickle=True)"
   ]
  },
  {
   "cell_type": "code",
   "execution_count": 79,
   "metadata": {},
   "outputs": [
    {
     "data": {
      "text/plain": [
       "(14, 1059)"
      ]
     },
     "execution_count": 79,
     "metadata": {},
     "output_type": "execute_result"
    }
   ],
   "source": [
    "s.shape"
   ]
  },
  {
   "cell_type": "code",
   "execution_count": null,
   "metadata": {},
   "outputs": [],
   "source": []
  }
 ],
 "metadata": {
  "kernelspec": {
   "display_name": "Python 3 (ipykernel)",
   "language": "python",
   "name": "python3"
  },
  "language_info": {
   "codemirror_mode": {
    "name": "ipython",
    "version": 3
   },
   "file_extension": ".py",
   "mimetype": "text/x-python",
   "name": "python",
   "nbconvert_exporter": "python",
   "pygments_lexer": "ipython3",
   "version": "3.7.3"
  }
 },
 "nbformat": 4,
 "nbformat_minor": 4
}
