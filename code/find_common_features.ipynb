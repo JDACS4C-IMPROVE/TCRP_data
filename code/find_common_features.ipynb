{
 "cells": [
  {
   "cell_type": "code",
   "execution_count": 2,
   "id": "c0b8ccbd-8d4b-4fe8-9842-83dbc5cdcf4a",
   "metadata": {},
   "outputs": [],
   "source": [
    "import pandas as pd\n",
    "import numpy as np "
   ]
  },
  {
   "cell_type": "code",
   "execution_count": 17,
   "id": "3a21420c-f4e7-4e0e-a735-d4c1d943f659",
   "metadata": {},
   "outputs": [],
   "source": [
    "GDSC_exp = pd.read_csv(\"/data/GDSC_exp_features.tsv\",sep=\"\\t\")[\"Gene\"].tolist()\n",
    "PDTC_exp = pd.read_csv(\"/data/PDTC_exp_features.tsv\",sep=\"\\t\")[\"Gene\"].tolist()"
   ]
  },
  {
   "cell_type": "code",
   "execution_count": 19,
   "id": "08222dba-2a5e-47f8-80ab-0dd60bae85b1",
   "metadata": {},
   "outputs": [],
   "source": [
    "new_exp_features = []\n",
    "for i in GDSC_exp:\n",
    "    if i in PDTC_exp:\n",
    "        new_exp_features.append(i)"
   ]
  },
  {
   "cell_type": "code",
   "execution_count": 20,
   "id": "dfabeae0-a6b2-448e-92be-2fd7442879fc",
   "metadata": {},
   "outputs": [
    {
     "data": {
      "text/plain": [
       "3017"
      ]
     },
     "execution_count": 20,
     "metadata": {},
     "output_type": "execute_result"
    }
   ],
   "source": [
    "len(new_exp_features)"
   ]
  },
  {
   "cell_type": "code",
   "execution_count": 23,
   "id": "cac5f03e-1a67-4a78-8661-144dcecea8a3",
   "metadata": {},
   "outputs": [],
   "source": [
    "GDSC_mut = pd.read_csv(\"/data/GDSC_mut_features.tsv\",sep=\"\\t\")[\"Gene\"].tolist()\n",
    "PDTC_mut = pd.read_csv(\"/data/PDTC_mut_features.tsv\",sep=\"\\t\")[\"Gene\"].tolist()"
   ]
  },
  {
   "cell_type": "code",
   "execution_count": 25,
   "id": "d30df895-b23f-4308-99a7-8bd7e783806e",
   "metadata": {},
   "outputs": [],
   "source": [
    "new_mut_features = []\n",
    "for i in GDSC_mut:\n",
    "    if i in PDTC_mut:\n",
    "        new_mut_features.append(i)"
   ]
  },
  {
   "cell_type": "code",
   "execution_count": 28,
   "id": "ae8a7cde-8317-4d3b-8d9d-4817790e4067",
   "metadata": {},
   "outputs": [],
   "source": [
    "textfile = open(\"/data/common_exp_features.tsv\", \"w\")\n",
    "textfile.write(\"Gene\\n\")\n",
    "for element in new_exp_features:\n",
    "    textfile.write(element + \"\\n\")\n",
    "textfile.close()\n",
    "textfile = open(\"/data/common_mut_features.tsv\", \"w\")\n",
    "textfile.write(\"Gene\\n\")\n",
    "for element in new_mut_features:\n",
    "    textfile.write(element + \"\\n\")\n",
    "textfile.close()"
   ]
  },
  {
   "cell_type": "code",
   "execution_count": null,
   "id": "20c899bc-10e0-4d50-9af9-90da790bfc67",
   "metadata": {},
   "outputs": [],
   "source": []
  }
 ],
 "metadata": {
  "kernelspec": {
   "display_name": "Python 3 (ipykernel)",
   "language": "python",
   "name": "python3"
  },
  "language_info": {
   "codemirror_mode": {
    "name": "ipython",
    "version": 3
   },
   "file_extension": ".py",
   "mimetype": "text/x-python",
   "name": "python",
   "nbconvert_exporter": "python",
   "pygments_lexer": "ipython3",
   "version": "3.7.3"
  }
 },
 "nbformat": 4,
 "nbformat_minor": 5
}
